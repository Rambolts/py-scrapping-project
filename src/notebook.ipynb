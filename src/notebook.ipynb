{
 "cells": [
  {
   "cell_type": "code",
   "execution_count": null,
   "metadata": {},
   "outputs": [],
   "source": [
    "from plugins.selenium import Selenium\n",
    "from selenium.webdriver.common.by import By\n",
    "\n",
    "import pandas as pd\n",
    "import string"
   ]
  },
  {
   "cell_type": "code",
   "execution_count": null,
   "metadata": {},
   "outputs": [],
   "source": [
    "webdriver = Selenium()\n",
    "webdriver.start()\n",
    "webdriver.go_to_url(\"https://inanyplace.blogspot.com/2017/01/lista-de-estados-brasileiros-sigla-estado-capital-e-regiao.html\")"
   ]
  },
  {
   "cell_type": "code",
   "execution_count": null,
   "metadata": {},
   "outputs": [],
   "source": [
    "driver = webdriver.get_driver()"
   ]
  },
  {
   "cell_type": "code",
   "execution_count": null,
   "metadata": {},
   "outputs": [],
   "source": [
    "table = driver.find_element(By.XPATH, '//table[@bgcolor=\"#ffffff\"]')"
   ]
  },
  {
   "cell_type": "code",
   "execution_count": null,
   "metadata": {},
   "outputs": [],
   "source": [
    "columns = [header.text for header in table.find_elements(By.XPATH, '//th/span')]\n",
    "columns"
   ]
  },
  {
   "cell_type": "code",
   "execution_count": null,
   "metadata": {},
   "outputs": [],
   "source": [
    "rows   = [row.find_elements(By.XPATH, './td/span') for row in table.find_elements(By.XPATH, '//tbody/tr')]\n",
    "values = [[cell.text for cell in row] for row in rows if row]"
   ]
  },
  {
   "cell_type": "code",
   "execution_count": null,
   "metadata": {},
   "outputs": [],
   "source": [
    "df = pd.DataFrame(values, columns=columns)[['Estado', 'Capital', 'Região']]\n",
    "df.columns = ['estado', 'capital', 'regiao']\n",
    "df = df.applymap(lambda x: x.title() if isinstance(x, str) else x)\n",
    "df"
   ]
  },
  {
   "cell_type": "code",
   "execution_count": null,
   "metadata": {},
   "outputs": [],
   "source": [
    "df_capital_populacao = pd.read_excel(\"PopulaçãoxCapital.xlsx\")\n",
    "df_capital_populacao.drop_duplicates(inplace=True)\n",
    "df_capital_populacao[['capital', 'populacao']] = df_capital_populacao['Capital/populacao'].str.split(':', expand=True)\n",
    "df_capital_populacao.drop(columns=['Capital/populacao'], inplace=True)\n",
    "df_capital_populacao['populacao'] = df_capital_populacao['populacao'].str.replace(f\"[{string.punctuation}]\", \"\", regex=True).astype(int)\n",
    "df_capital_populacao"
   ]
  },
  {
   "cell_type": "code",
   "execution_count": null,
   "metadata": {},
   "outputs": [],
   "source": [
    "df_inner = pd.merge(df, df_capital_populacao, on='capital', how='inner')\n",
    "df_inner"
   ]
  }
 ],
 "metadata": {
  "kernelspec": {
   "display_name": "sympla_venv",
   "language": "python",
   "name": "python3"
  },
  "language_info": {
   "codemirror_mode": {
    "name": "ipython",
    "version": 3
   },
   "file_extension": ".py",
   "mimetype": "text/x-python",
   "name": "python",
   "nbconvert_exporter": "python",
   "pygments_lexer": "ipython3",
   "version": "3.12.7"
  }
 },
 "nbformat": 4,
 "nbformat_minor": 2
}
